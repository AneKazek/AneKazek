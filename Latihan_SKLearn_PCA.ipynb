{
  "nbformat": 4,
  "nbformat_minor": 0,
  "metadata": {
    "colab": {
      "provenance": [],
      "authorship_tag": "ABX9TyP2qR7QjDCZQCQc0kWZjSKf",
      "include_colab_link": true
    },
    "kernelspec": {
      "name": "python3",
      "display_name": "Python 3"
    },
    "language_info": {
      "name": "python"
    }
  },
  "cells": [
    {
      "cell_type": "markdown",
      "metadata": {
        "id": "view-in-github",
        "colab_type": "text"
      },
      "source": [
        "<a href=\"https://colab.research.google.com/github/AneKazek/AneKazek/blob/main/Latihan_SKLearn_PCA.ipynb\" target=\"_parent\"><img src=\"https://colab.research.google.com/assets/colab-badge.svg\" alt=\"Open In Colab\"/></a>"
      ]
    },
    {
      "cell_type": "code",
      "source": [
        "from sklearn import datasets\n",
        "from sklearn.model_selection import train_test_split\n",
        "\n",
        "iris = datasets.load_iris()\n",
        "atribut = iris.data\n",
        "label = iris.target\n",
        "\n",
        "# Bagi dataset menjadi train set dan test set\n",
        "X_train, x_test, y_train, y_test = train_test_split(\n",
        "    atribut, label, test_size=0.2, random_state=1\n",
        ")"
      ],
      "metadata": {
        "id": "sYUinaqf5Kbv"
      },
      "execution_count": 47,
      "outputs": []
    },
    {
      "cell_type": "code",
      "source": [
        "from sklearn import tree\n",
        "\n",
        "decision_tree = tree.DecisionTreeClassifier()\n",
        "model_pertama = decision_tree.fit(X_train, y_train)\n",
        "model_pertama.score(x_test, y_test)"
      ],
      "metadata": {
        "colab": {
          "base_uri": "https://localhost:8080/"
        },
        "id": "AyeeCubhBEsy",
        "outputId": "0096cea1-6e90-4dd7-87f2-94a6e723cc15"
      },
      "execution_count": 48,
      "outputs": [
        {
          "output_type": "execute_result",
          "data": {
            "text/plain": [
              "0.9666666666666667"
            ]
          },
          "metadata": {},
          "execution_count": 48
        }
      ]
    },
    {
      "cell_type": "code",
      "source": [
        "from sklearn.decomposition import PCA\n",
        "\n",
        "#Membuat objek PCA dengan 4 Principal component\n",
        "pca = PCA(n_components=4)\n",
        "\n",
        "#Mengaplikasikan PCA pada dataset\n",
        "pca_attributes = pca.fit_transform(X_train)\n",
        "\n",
        "#Melihat variance dari setiap atribut\n",
        "pca.explained_variance_ratio_"
      ],
      "metadata": {
        "id": "GNaFpovyBGkM"
      },
      "execution_count": null,
      "outputs": []
    },
    {
      "cell_type": "code",
      "source": [
        "#PCA dengan 2 principal component\n",
        "pca = PCA(n_components=2)\n",
        "x_train_pca = pca.fit_transform(X_train)\n",
        "x_test_pca = pca.fit_transform(x_test)"
      ],
      "metadata": {
        "id": "n5h80J5EBKJV"
      },
      "execution_count": 51,
      "outputs": []
    },
    {
      "cell_type": "code",
      "source": [
        "# Uji Akurasi Classifier\n",
        "model2 = decision_tree.fit(x_train_pca, y_train)\n",
        "model2.score(x_test_pca,y_test)"
      ],
      "metadata": {
        "colab": {
          "base_uri": "https://localhost:8080/"
        },
        "id": "euVupUeQBNfF",
        "outputId": "6b52286a-bec2-4ed9-e677-ef56a03a0dcb"
      },
      "execution_count": 52,
      "outputs": [
        {
          "output_type": "execute_result",
          "data": {
            "text/plain": [
              "0.9333333333333333"
            ]
          },
          "metadata": {},
          "execution_count": 52
        }
      ]
    }
  ]
}